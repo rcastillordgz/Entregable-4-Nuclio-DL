{
 "cells": [
  {
   "cell_type": "markdown",
   "id": "1c9a0b43",
   "metadata": {},
   "source": [
    "# Actividad Deep Vision\n",
    "\n",
    "**Nombre del grupo:** GRUPO 8\n",
    " \n",
    "**Integrantes:** Nombre1, Nombre2, Nombre3\n",
    "\n",
    "---"
   ]
  },
  {
   "cell_type": "markdown",
   "id": "76eb9fbe",
   "metadata": {},
   "source": [
    "## 📌 Objetivo del proyecto\n",
    "\n",
    "Comparar dos estrategias de clasificación de imágenes en el dataset CIFAR100: (1) Transfer learning con redes preentrenadas, y (2) Entrenamiento de una red desde cero."
   ]
  },
  {
   "cell_type": "markdown",
   "id": "9d415239",
   "metadata": {},
   "source": [
    "## 🔢 Carga y visualización de datos\n",
    "Cargamos el dataset CIFAR100 y visualizamos algunas imágenes para familiarizarnos con los datos."
   ]
  },
  {
   "cell_type": "code",
   "execution_count": null,
   "id": "1eb86451",
   "metadata": {},
   "outputs": [
    {
     "ename": "ModuleNotFoundError",
     "evalue": "No module named 'tensorflow'",
     "output_type": "error",
     "traceback": [
      "\u001b[0;31m---------------------------------------------------------------------------\u001b[0m",
      "\u001b[0;31mModuleNotFoundError\u001b[0m                       Traceback (most recent call last)",
      "Cell \u001b[0;32mIn[3], line 1\u001b[0m\n\u001b[0;32m----> 1\u001b[0m \u001b[38;5;28;01mfrom\u001b[39;00m \u001b[38;5;21;01mtensorflow\u001b[39;00m\u001b[38;5;21;01m.\u001b[39;00m\u001b[38;5;21;01mkeras\u001b[39;00m\u001b[38;5;21;01m.\u001b[39;00m\u001b[38;5;21;01mdatasets\u001b[39;00m \u001b[38;5;28;01mimport\u001b[39;00m cifar100\n\u001b[1;32m      2\u001b[0m \u001b[38;5;28;01mimport\u001b[39;00m \u001b[38;5;21;01mmatplotlib\u001b[39;00m\u001b[38;5;21;01m.\u001b[39;00m\u001b[38;5;21;01mpyplot\u001b[39;00m \u001b[38;5;28;01mas\u001b[39;00m \u001b[38;5;21;01mplt\u001b[39;00m\n\u001b[1;32m      3\u001b[0m \u001b[38;5;28;01mimport\u001b[39;00m \u001b[38;5;21;01mnumpy\u001b[39;00m \u001b[38;5;28;01mas\u001b[39;00m \u001b[38;5;21;01mnp\u001b[39;00m\n",
      "\u001b[0;31mModuleNotFoundError\u001b[0m: No module named 'tensorflow'"
     ]
    }
   ],
   "source": [
    "from tensorflow.keras.datasets import cifar100\n",
    "import matplotlib.pyplot as plt\n",
    "import numpy as np\n",
    "\n",
    "(x_train, y_train), (x_test, y_test) = cifar100.load_data(label_mode='fine')\n",
    "\n",
    "# Mostrar 10 imágenes aleatorias\n",
    "fig, axes = plt.subplots(1, 10, figsize=(15, 2))\n",
    "for i in range(10):\n",
    "    idx = np.random.randint(0, len(x_train))\n",
    "    axes[i].imshow(x_train[idx])\n",
    "    axes[i].axis('off')\n",
    "plt.show()"
   ]
  },
  {
   "cell_type": "markdown",
   "id": "c2c4791b",
   "metadata": {},
   "source": [
    "## 🔹 Estrategia 1: Transfer Learning + Fine-Tuning"
   ]
  },
  {
   "cell_type": "markdown",
   "id": "17c92119",
   "metadata": {},
   "source": [
    "### 📦 Preparación de los datos\n",
    "Redimensionamiento, normalización y creación de generadores de datos."
   ]
  },
  {
   "cell_type": "code",
   "execution_count": null,
   "id": "76f60e7f",
   "metadata": {},
   "outputs": [],
   "source": [
    "from tensorflow.keras.preprocessing.image import ImageDataGenerator\n",
    "from tensorflow.keras.applications.resnet50 import preprocess_input\n",
    "import tensorflow as tf\n",
    "\n",
    "IMG_SIZE = 224\n",
    "BATCH_SIZE = 32\n",
    "\n",
    "train_datagen = ImageDataGenerator(\n",
    "    preprocessing_function=preprocess_input,\n",
    "    rotation_range=15,\n",
    "    width_shift_range=0.1,\n",
    "    height_shift_range=0.1,\n",
    "    horizontal_flip=True\n",
    ")\n",
    "\n",
    "test_datagen = ImageDataGenerator(preprocessing_function=preprocess_input)\n",
    "\n",
    "train_generator = train_datagen.flow(\n",
    "    tf.image.resize(x_train, (IMG_SIZE, IMG_SIZE)),\n",
    "    y_train,\n",
    "    batch_size=BATCH_SIZE\n",
    ")\n",
    "\n",
    "test_generator = test_datagen.flow(\n",
    "    tf.image.resize(x_test, (IMG_SIZE, IMG_SIZE)),\n",
    "    y_test,\n",
    "    batch_size=BATCH_SIZE\n",
    ")"
   ]
  },
  {
   "cell_type": "markdown",
   "id": "1b1490e0",
   "metadata": {},
   "source": [
    "### 🔍 Comparación de arquitecturas preentrenadas\n",
    "Probaremos al menos dos modelos como ResNet50 y MobileNetV2."
   ]
  },
  {
   "cell_type": "code",
   "execution_count": null,
   "id": "4064b64c",
   "metadata": {},
   "outputs": [],
   "source": [
    "# Aquí irá la implementación de los modelos preentrenados con fine-tuning."
   ]
  },
  {
   "cell_type": "markdown",
   "id": "92200623",
   "metadata": {},
   "source": [
    "## 🔸 Estrategia 2: Red desde cero (Custom CNN)"
   ]
  },
  {
   "cell_type": "markdown",
   "id": "d3ead522",
   "metadata": {},
   "source": [
    "### 🧱 Diseño de la arquitectura personalizada\n",
    "Aquí definimos una CNN desde cero con técnicas de optimización."
   ]
  },
  {
   "cell_type": "code",
   "execution_count": null,
   "id": "89558efc",
   "metadata": {},
   "outputs": [],
   "source": [
    "# Aquí irá el modelo CNN diseñado desde cero, con batch normalization, dropout y otras técnicas."
   ]
  },
  {
   "cell_type": "markdown",
   "id": "6c3cf41c",
   "metadata": {},
   "source": [
    "## 📈 Comparación y evaluación"
   ]
  },
  {
   "cell_type": "code",
   "execution_count": null,
   "id": "71c5f385",
   "metadata": {},
   "outputs": [],
   "source": [
    "# Código para comparar las métricas de ambas estrategias (accuracy, curvas de pérdida, etc.)"
   ]
  },
  {
   "cell_type": "markdown",
   "id": "4ceed01c",
   "metadata": {},
   "source": [
    "## 🧠 Conclusiones"
   ]
  },
  {
   "cell_type": "markdown",
   "id": "04118a66",
   "metadata": {},
   "source": [
    "Aquí se discutirán los resultados obtenidos con ambas estrategias, sus ventajas, desventajas y posibles mejoras futuras."
   ]
  },
  {
   "cell_type": "markdown",
   "metadata": {
    "id": "0xzbVGolIg08"
   },
   "source": [
    "# Deep Learning\n",
    "## Actividad 1: Deep Vision"
   ]
  },
  {
   "cell_type": "markdown",
   "metadata": {
    "id": "bNZMjRUJaNv7"
   },
   "source": [
    "Nombre alumn@ 1\n",
    "\n",
    "Nombre alumn@ 2\n",
    "\n",
    "...\n"
   ]
  },
  {
   "cell_type": "markdown",
   "metadata": {
    "id": "BhWjErKXWMTl"
   },
   "source": [
    "# Actividad Deep Vision\n",
    "\n",
    "Diseñar y comparar dos estrategias para la clasificación de imágenes en el dataset CIFAR100 de Keras (https://keras.io/api/datasets/cifar100/)\n",
    "\n",
    "### **Estrategia 1: Red pre-entrenada**\n",
    "\n",
    "La primera estrategia a comparar debe incluir la utilización de redes preentrenadas con el dataset ImageNet, llevando a cabo tareas de *transfer learning* y *fine-tuning* para clasificar los objetos de CIFAR100. Deben compararse al menos dos tipos de arquitecturas (VGGs, ResNet50, Xception, InceptionV3, InceptionResNetV2, MobileNetV2, DenseNet, ResNet...) y se debe seleccionar la que mayor precisión nos dé (información sobre las arquitecturas disponibles en https://keras.io/applications/). Se espera que el ejercicio presente una profunda experimentación haciendo uso todas las técnicas de optimización mostradas en clase de forma justificada para la mejora del rendimiento de la red neuronal (weight regularization, dropout, batch normalization, data augmentation, etc.).\n",
    "\n",
    "### **Estrategia 2: Entrenar desde cero o from scratch**\n",
    "\n",
    "La segunda estrategia a comparar será una red neuronal que se debe diseñar, entrenar y optimizar. Se requiere una justificación empírica de las decisiones que llevaron a la selección de atributos, capas e hiperparámetros a los que se ha llegado. Se espera que el ejercicio presente una profunda experimentación haciendo uso de todas las técnicas de optimización mostradas en clase de forma justificada para la mejora del rendimiento de la red neuronal (weight regularization, dropout, batch normalization, data augmentation...).\n",
    "\n",
    "## Normas a seguir\n",
    "\n",
    "- Se debe entregar un **ÚNICO GOOGLE COLAB notebook** (archivo .ipynb) que incluya las instrucciones presentes y su **EJECUCIÓN!!!**. Debe aparecer todo el proceso seguido (carga de datos, visualización de datos, proceso de entrenamiento y proceso de validación del modelo).\n",
    "- Poner el nombre del grupo en el nombre del archivo y el nombre de todos los integrantes del grupo al inicio del notebook.\n",
    "- Las redes utilizadas deben estar entrenadas y con las métricas extraídas en el conjunto de test.\n",
    "- Es recomendable crear una última sección de texto en el notebook en la que se discutan los diferentes modelos obtenidos y se extraigan las conclusiones pertinentes.\n",
    "\n",
    "## Criterio de evaluación\n",
    "\n",
    "- Seguimiento de las normas establecidas en la actividad.\n",
    "- Efectividad al presentar las comparaciones entre métricas de evaluación de ambos modelos.\n",
    "- Demostración de la utilización de técnicas de optimización para mejorar el rendimiento de los modelos.\n",
    "- Modelos predictivos con rendimiento superior al aleatorio.\n",
    "- Corrección en el uso de algoritmos, modelos y formas idiomáticas en Python.\n",
    "- El código debe poder ejecutarse sin modificación alguna en Google Colaboratory."
   ]
  },
  {
   "cell_type": "markdown",
   "metadata": {
    "id": "H0p5cu6LTUiZ"
   },
   "source": [
    "Recomendaciones en el Uso de Colab:\n",
    "\n",
    "- Eliminar las variables innecesarias para liberar RAM mediante la sentencia:"
   ]
  },
  {
   "cell_type": "code",
   "execution_count": null,
   "metadata": {
    "id": "DrTrtlo27sTi"
   },
   "outputs": [],
   "source": [
    "del nombrevariable"
   ]
  },
  {
   "cell_type": "code",
   "execution_count": null,
   "metadata": {
    "id": "RFjm7WwHgpXo"
   },
   "outputs": [],
   "source": [
    "# Carga de datos\n",
    "print(\"[INFO]: Loading CIFAR-100 data...\")\n",
    "((x_train, y_train), (x_test, y_test)) = cifar100.load_data()\n",
    "\n",
    "# CIFAR100 labelnames\n",
    "labelNames = ['apple', 'aquarium_fish', 'baby', 'bear', 'beaver', 'bed', 'bee', 'beetle', 'bicycle', 'bottle', 'bowl', 'boy', 'bridge', 'bus', 'butterfly', 'camel', 'can', 'castle', 'caterpillar', 'cattle', 'chair', 'chimpanzee', 'clock', 'cloud', 'cockroach', 'couch', 'crab', 'crocodile', 'cup', 'dinosaur', 'dolphin', 'elephant', 'flatfish', 'forest', 'fox', 'girl', 'hamster', 'house', 'kangaroo', 'keyboard', 'lamp', 'lawn_mower', 'leopard', 'lion', 'lizard', 'lobster', 'man', 'maple_tree', 'motorcycle', 'mountain', 'mouse', 'mushroom', 'oak_tree', 'orange', 'orchid', 'otter', 'palm_tree', 'pear', 'pickup_truck', 'pine_tree', 'plain', 'plate', 'poppy', 'porcupine', 'possum', 'rabbit', 'raccoon', 'ray', 'road', 'rocket', 'rose', 'sea', 'seal', 'shark', 'shrew', 'skunk', 'skyscraper', 'snail', 'snake', 'spider', 'squirrel', 'streetcar', 'sunflower', 'sweet_pepper', 'table', 'tank', 'telephone', 'television', 'tiger', 'tractor', 'train', 'trout', 'tulip', 'turtle', 'wardrobe', 'whale', 'willow_tree', 'wolf', 'woman', 'worm']\n"
   ]
  }
 ],
 "metadata": {
  "accelerator": "GPU",
  "colab": {
   "provenance": []
  },
  "gpuClass": "standard",
  "kernelspec": {
   "display_name": "Python 3",
   "name": "python3"
  },
  "language_info": {
   "codemirror_mode": {
    "name": "ipython",
    "version": 3
   },
   "file_extension": ".py",
   "mimetype": "text/x-python",
   "name": "python",
   "nbconvert_exporter": "python",
   "pygments_lexer": "ipython3",
   "version": "3.13.0"
  }
 },
 "nbformat": 4,
 "nbformat_minor": 0
}
